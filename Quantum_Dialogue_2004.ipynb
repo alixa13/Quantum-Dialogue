{
  "nbformat": 4,
  "nbformat_minor": 0,
  "metadata": {
    "colab": {
      "name": "Quantum Dialogue 2004.ipynb",
      "provenance": [],
      "collapsed_sections": [],
      "authorship_tag": "ABX9TyOltM2eLRtOCNkQy3a1VLtN"
    },
    "kernelspec": {
      "name": "python3",
      "display_name": "Python 3"
    },
    "language_info": {
      "name": "python"
    }
  },
  "cells": [
    {
      "cell_type": "code",
      "execution_count": null,
      "metadata": {
        "id": "RI7bevo9rjnX"
      },
      "outputs": [],
      "source": [
        "!pip install qiskit\n",
        "!pip install --upgrade  matplotlib\n",
        "!pip install pylatexenc"
      ]
    },
    {
      "cell_type": "code",
      "source": [
        "%matplotlib inline\n",
        "from qiskit import *\n",
        "import matplotlib.pyplot as plt\n",
        "from qiskit.visualization import array_to_latex"
      ],
      "metadata": {
        "id": "pI65qhRIDaVl"
      },
      "execution_count": null,
      "outputs": []
    },
    {
      "cell_type": "code",
      "source": [
        "back_uni = BasicAer.get_backend('unitary_simulator')\n",
        "back_sate = BasicAer.get_backend('statevector_simulator')"
      ],
      "metadata": {
        "id": "cmm05TQIDhal"
      },
      "execution_count": null,
      "outputs": []
    },
    {
      "cell_type": "code",
      "source": [
        "def inti():\n",
        "  qc = QuantumCircuit(2)\n",
        "  qc.h(0)\n",
        "  qc.cx(0, 1)\n",
        "  qc.x(1)\n",
        "  return qc"
      ],
      "metadata": {
        "id": "mMaZaSYXu7Ps"
      },
      "execution_count": null,
      "outputs": []
    },
    {
      "cell_type": "code",
      "source": [
        "def Bob_action(i, qc):\n",
        "  if (Bob[i] == '0' and Bob[i+1] == '0'):\n",
        "    qc.id(1)\n",
        "    output = execute(qc, back_sate).result().get_statevector()\n",
        "  elif (Bob[i] == '0' and Bob[i+1] == '1'):\n",
        "    qc.x(1)\n",
        "    output = execute(qc, back_sate).result().get_statevector()\n",
        "  elif (Bob[i] == '1' and Bob[i+1] == '0'):\n",
        "    qc.y(1)\n",
        "    output = execute(qc, back_sate).result().get_statevector()\n",
        "  else:\n",
        "    qc.z(1)\n",
        "    output = execute(qc, back_sate).result().get_statevector()\n",
        "  return [qc, output]"
      ],
      "metadata": {
        "id": "RX3-xog3H2N4"
      },
      "execution_count": null,
      "outputs": []
    },
    {
      "cell_type": "code",
      "source": [
        "def Alice_action(i, qc):\n",
        "  if (Alice[i] == '0' and Alice[i+1] == '0'):\n",
        "    qc.id(1)\n",
        "    output = execute(qc, back_sate).result().get_statevector()\n",
        "  elif Alice[i] == '0' and Alice[i+1] == '1':\n",
        "    qc.x(1)\n",
        "    output = execute(qc, back_sate).result().get_statevector()\n",
        "  elif Alice[i] == '1' and Alice[i+1] == '0':\n",
        "    qc.y(1)\n",
        "    output = execute(qc, back_sate).result().get_statevector()\n",
        "  else:\n",
        "    qc.z(1)\n",
        "    output = execute(qc, back_sate).result().get_statevector() \n",
        "  return [qc, output]"
      ],
      "metadata": {
        "id": "bUj833u9xAfh"
      },
      "execution_count": null,
      "outputs": []
    },
    {
      "cell_type": "code",
      "source": [
        "def Bell_measure(qc):\n",
        "  qc.cx(0, 1)\n",
        "  qc.h(0)\n",
        "  output = execute(qc, back_sate).result().get_statevector()\n",
        "  return [qc, output]"
      ],
      "metadata": {
        "id": "rgHkHF11KbiV"
      },
      "execution_count": null,
      "outputs": []
    },
    {
      "cell_type": "code",
      "source": [
        "def x_y_extractor(output):\n",
        "  distinc_index = 0\n",
        "  j = 0\n",
        "  for i in range(4):\n",
        "    if output[0] != output[i]:\n",
        "      j += 1\n",
        "      if j < 2:\n",
        "        distinc_index = i\n",
        "      else:\n",
        "        distinc_index = 0\n",
        "  if distinc_index == 0:\n",
        "    x = 0\n",
        "    y = 1\n",
        "  elif distinc_index == 1:\n",
        "    x = 1\n",
        "    y = 0\n",
        "  elif distinc_index == 2:\n",
        "    x = 0\n",
        "    y = 0\n",
        "  else:\n",
        "    x = 1\n",
        "    y = 1\n",
        "  return x, y"
      ],
      "metadata": {
        "id": "0HqUXaWH23pL"
      },
      "execution_count": null,
      "outputs": []
    },
    {
      "cell_type": "code",
      "source": [
        "#************** Alice and Bob secrets\n",
        "Alice = '011001'\n",
        "Bob = '010010'"
      ],
      "metadata": {
        "id": "OCYkdvdfJvkm"
      },
      "execution_count": null,
      "outputs": []
    },
    {
      "cell_type": "code",
      "source": [
        "i = 0\n",
        "Alice_secret = []\n",
        "Bob_secret = []\n",
        "\n",
        "while i < len(Bob):\n",
        "  #*************Create Initial state*************\n",
        "\n",
        "  qc = inti()\n",
        "  print(\"Step [\"+str(i/2)+\"]-> Initial state:\")\n",
        "  print(qc, end = '\\n\\n')\n",
        "\n",
        "  #*************Bob apply gate*************\n",
        "\n",
        "  qc, output = Bob_action(i, qc)\n",
        "  print(\"Step [\"+str(i/2)+\"]-> Bob apply gate:\")\n",
        "  print(qc, end = '\\n\\n')\n",
        "\n",
        "  #*************Alice apply gate*************\n",
        "\n",
        "  qc, output = Alice_action(i, qc)\n",
        "  print(\"Step [\"+str(i/2)+\"]-> Alice apply gate:\")\n",
        "  print(qc, end = '\\n\\n')\n",
        "\n",
        "  #*************Apply Bell measurment*************\n",
        "\n",
        "  qc, output = Bell_measure(qc)\n",
        "  print(\"Step [\"+str(i/2)+\"]-> Bell measurnment: \")\n",
        "  print(qc, end = '\\n\\n')\n",
        "\n",
        "  #*************Find X & Y*************\n",
        "\n",
        "  x, y = x_y_extractor(output)\n",
        "  print (\"Step [\"+str(i/2)+\"]-> X & Y values: \")\n",
        "  print(x, y, end = '\\n\\n')\n",
        "\n",
        "  #*************Calculate Alice secrets by Bob*************\n",
        "\n",
        "  Alice_secret.append(abs(x - int(Bob[i])))\n",
        "  Alice_secret.append(abs(y - int(Bob[i+1])))\n",
        "\n",
        "  #*************Calculate Bob secrets by Alice*************\n",
        "\n",
        "  Bob_secret.append(abs(x - int(Alice[i])))\n",
        "  Bob_secret.append(abs(y - int(Alice[i+1])))\n",
        "  \n",
        "\n",
        "  print(\"Step [\"+str(i/2)+\"]-> Alice secrets: \")\n",
        "  print(Alice_secret, end = '\\n\\n')\n",
        "  print(\"Step [\"+str(i/2)+\"]-> Bob secrets: \")\n",
        "  print(Bob_secret, end = '\\n\\n')\n",
        "\n",
        "  i += 2"
      ],
      "metadata": {
        "colab": {
          "base_uri": "https://localhost:8080/"
        },
        "id": "pzeCuxRQECrz",
        "outputId": "65f40a32-3530-475b-edb9-7640de19612e"
      },
      "execution_count": null,
      "outputs": [
        {
          "output_type": "stream",
          "name": "stdout",
          "text": [
            "Step [0.0]-> Initial state:\n",
            "     ┌───┐          \n",
            "q_0: ┤ H ├──■───────\n",
            "     └───┘┌─┴─┐┌───┐\n",
            "q_1: ─────┤ X ├┤ X ├\n",
            "          └───┘└───┘\n",
            "\n",
            "Step [0.0]-> Bob apply gate:\n",
            "     ┌───┐               \n",
            "q_0: ┤ H ├──■────────────\n",
            "     └───┘┌─┴─┐┌───┐┌───┐\n",
            "q_1: ─────┤ X ├┤ X ├┤ X ├\n",
            "          └───┘└───┘└───┘\n",
            "\n",
            "Step [0.0]-> Alice apply gate:\n",
            "     ┌───┐                    \n",
            "q_0: ┤ H ├──■─────────────────\n",
            "     └───┘┌─┴─┐┌───┐┌───┐┌───┐\n",
            "q_1: ─────┤ X ├┤ X ├┤ X ├┤ X ├\n",
            "          └───┘└───┘└───┘└───┘\n",
            "\n",
            "Step [0.0]-> Bell measurnment: \n",
            "     ┌───┐                         ┌───┐\n",
            "q_0: ┤ H ├──■───────────────────■──┤ H ├\n",
            "     └───┘┌─┴─┐┌───┐┌───┐┌───┐┌─┴─┐└───┘\n",
            "q_1: ─────┤ X ├┤ X ├┤ X ├┤ X ├┤ X ├─────\n",
            "          └───┘└───┘└───┘└───┘└───┘     \n",
            "\n",
            "Step [0.0]-> X & Y values: \n",
            "0 0\n",
            "\n",
            "Step [1.0]-> Alice secrets: \n",
            "[0, 1]\n",
            "\n",
            "Step [1.0]-> Bob secrets: \n",
            "[0, 1]\n",
            "\n",
            "Step [1.0]-> Initial state:\n",
            "     ┌───┐          \n",
            "q_0: ┤ H ├──■───────\n",
            "     └───┘┌─┴─┐┌───┐\n",
            "q_1: ─────┤ X ├┤ X ├\n",
            "          └───┘└───┘\n",
            "\n",
            "Step [1.0]-> Bob apply gate:\n",
            "     ┌───┐               \n",
            "q_0: ┤ H ├──■────────────\n",
            "     └───┘┌─┴─┐┌───┐┌───┐\n",
            "q_1: ─────┤ X ├┤ X ├┤ I ├\n",
            "          └───┘└───┘└───┘\n",
            "\n",
            "Step [1.0]-> Alice apply gate:\n",
            "     ┌───┐                    \n",
            "q_0: ┤ H ├──■─────────────────\n",
            "     └───┘┌─┴─┐┌───┐┌───┐┌───┐\n",
            "q_1: ─────┤ X ├┤ X ├┤ I ├┤ Y ├\n",
            "          └───┘└───┘└───┘└───┘\n",
            "\n",
            "Step [1.0]-> Bell measurnment: \n",
            "     ┌───┐                         ┌───┐\n",
            "q_0: ┤ H ├──■───────────────────■──┤ H ├\n",
            "     └───┘┌─┴─┐┌───┐┌───┐┌───┐┌─┴─┐└───┘\n",
            "q_1: ─────┤ X ├┤ X ├┤ I ├┤ Y ├┤ X ├─────\n",
            "          └───┘└───┘└───┘└───┘└───┘     \n",
            "\n",
            "Step [1.0]-> X & Y values: \n",
            "1 0\n",
            "\n",
            "Step [2.0]-> Alice secrets: \n",
            "[0, 1, 1, 0]\n",
            "\n",
            "Step [2.0]-> Bob secrets: \n",
            "[0, 1, 0, 0]\n",
            "\n",
            "Step [2.0]-> Initial state:\n",
            "     ┌───┐          \n",
            "q_0: ┤ H ├──■───────\n",
            "     └───┘┌─┴─┐┌───┐\n",
            "q_1: ─────┤ X ├┤ X ├\n",
            "          └───┘└───┘\n",
            "\n",
            "Step [2.0]-> Bob apply gate:\n",
            "     ┌───┐               \n",
            "q_0: ┤ H ├──■────────────\n",
            "     └───┘┌─┴─┐┌───┐┌───┐\n",
            "q_1: ─────┤ X ├┤ X ├┤ Y ├\n",
            "          └───┘└───┘└───┘\n",
            "\n",
            "Step [2.0]-> Alice apply gate:\n",
            "     ┌───┐                    \n",
            "q_0: ┤ H ├──■─────────────────\n",
            "     └───┘┌─┴─┐┌───┐┌───┐┌───┐\n",
            "q_1: ─────┤ X ├┤ X ├┤ Y ├┤ X ├\n",
            "          └───┘└───┘└───┘└───┘\n",
            "\n",
            "Step [2.0]-> Bell measurnment: \n",
            "     ┌───┐                         ┌───┐\n",
            "q_0: ┤ H ├──■───────────────────■──┤ H ├\n",
            "     └───┘┌─┴─┐┌───┐┌───┐┌───┐┌─┴─┐└───┘\n",
            "q_1: ─────┤ X ├┤ X ├┤ Y ├┤ X ├┤ X ├─────\n",
            "          └───┘└───┘└───┘└───┘└───┘     \n",
            "\n",
            "Step [2.0]-> X & Y values: \n",
            "1 1\n",
            "\n",
            "Step [3.0]-> Alice secrets: \n",
            "[0, 1, 1, 0, 0, 1]\n",
            "\n",
            "Step [3.0]-> Bob secrets: \n",
            "[0, 1, 0, 0, 1, 0]\n",
            "\n"
          ]
        }
      ]
    }
  ]
}